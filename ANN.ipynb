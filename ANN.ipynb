{
  "nbformat": 4,
  "nbformat_minor": 0,
  "metadata": {
    "colab": {
      "provenance": [],
      "authorship_tag": "ABX9TyM6rO0iwFLcdILz4EdsRyei",
      "include_colab_link": true
    },
    "kernelspec": {
      "name": "python3",
      "display_name": "Python 3"
    },
    "language_info": {
      "name": "python"
    }
  },
  "cells": [
    {
      "cell_type": "markdown",
      "metadata": {
        "id": "view-in-github",
        "colab_type": "text"
      },
      "source": [
        "<a href=\"https://colab.research.google.com/github/HarsikaVetrivel/PYTHONAIML/blob/main/ANN.ipynb\" target=\"_parent\"><img src=\"https://colab.research.google.com/assets/colab-badge.svg\" alt=\"Open In Colab\"/></a>"
      ]
    },
    {
      "cell_type": "code",
      "source": [
        "# prompt: sample python code using ANN\n",
        "\n",
        "import numpy as np\n",
        "\n",
        "# Sample data (replace with your actual data)\n",
        "X = np.array([[0, 0], [0, 1], [1, 0], [1, 1]])\n",
        "y = np.array([[0], [1], [1], [0]])  # XOR problem\n",
        "\n",
        "# Define the neural network architecture\n",
        "input_size = 2\n",
        "hidden_size = 2\n",
        "output_size = 1\n",
        "learning_rate = 0.1\n",
        "epochs = 10000\n",
        "\n",
        "# Initialize weights and biases with random values\n",
        "np.random.seed(42)  # for reproducibility\n",
        "weights_input_hidden = np.random.rand(input_size, hidden_size)\n",
        "bias_hidden = np.random.rand(1, hidden_size)\n",
        "weights_hidden_output = np.random.rand(hidden_size, output_size)\n",
        "bias_output = np.random.rand(1, output_size)\n",
        "\n",
        "# Activation function (sigmoid)\n",
        "def sigmoid(x):\n",
        "    return 1 / (1 + np.exp(-x))\n",
        "\n",
        "# Derivative of the sigmoid function\n",
        "def sigmoid_derivative(x):\n",
        "    return x * (1 - x)\n",
        "\n",
        "# Training the neural network\n",
        "for epoch in range(epochs):\n",
        "    # Forward propagation\n",
        "    hidden_layer_input = np.dot(X, weights_input_hidden) + bias_hidden\n",
        "    hidden_layer_output = sigmoid(hidden_layer_input)\n",
        "    output_layer_input = np.dot(hidden_layer_output, weights_hidden_output) + bias_output\n",
        "    predicted_output = sigmoid(output_layer_input)\n",
        "\n",
        "    # Backpropagation\n",
        "    error = y - predicted_output\n",
        "    d_output = error * sigmoid_derivative(predicted_output)\n",
        "    error_hidden_layer = d_output.dot(weights_hidden_output.T)\n",
        "    d_hidden_layer = error_hidden_layer * sigmoid_derivative(hidden_layer_output)\n",
        "\n",
        "    # Update weights and biases\n",
        "    weights_hidden_output += hidden_layer_output.T.dot(d_output) * learning_rate\n",
        "    bias_output += np.sum(d_output, axis=0, keepdims=True) * learning_rate\n",
        "    weights_input_hidden += X.T.dot(d_hidden_layer) * learning_rate\n",
        "    bias_hidden += np.sum(d_hidden_layer, axis=0, keepdims=True) * learning_rate\n",
        "\n",
        "# Print the predicted output after training\n",
        "print(\"Predicted output after training:\\n\", predicted_output)\n"
      ],
      "metadata": {
        "colab": {
          "base_uri": "https://localhost:8080/"
        },
        "id": "z3yE4OwAeUwV",
        "outputId": "6bfd5b8f-4a22-45a2-98f5-afe787dcf002"
      },
      "execution_count": 5,
      "outputs": [
        {
          "output_type": "stream",
          "name": "stdout",
          "text": [
            "Predicted output after training:\n",
            " [[0.05322146]\n",
            " [0.95171535]\n",
            " [0.95160449]\n",
            " [0.05175396]]\n"
          ]
        }
      ]
    }
  ]
}