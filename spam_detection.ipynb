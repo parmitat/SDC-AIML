{
  "nbformat": 4,
  "nbformat_minor": 0,
  "metadata": {
    "colab": {
      "provenance": [],
      "authorship_tag": "ABX9TyOvcRwQoGr7waJ0+4l8Oofu",
      "include_colab_link": true
    },
    "kernelspec": {
      "name": "python3",
      "display_name": "Python 3"
    },
    "language_info": {
      "name": "python"
    }
  },
  "cells": [
    {
      "cell_type": "markdown",
      "metadata": {
        "id": "view-in-github",
        "colab_type": "text"
      },
      "source": [
        "<a href=\"https://colab.research.google.com/github/HarsikaVetrivel/PYTHONAIML/blob/main/spam_detection.ipynb\" target=\"_parent\"><img src=\"https://colab.research.google.com/assets/colab-badge.svg\" alt=\"Open In Colab\"/></a>"
      ]
    },
    {
      "cell_type": "code",
      "source": [
        "# prompt: spam detection code in python\n",
        "\n",
        "import re\n",
        "\n",
        "def is_spam(text):\n",
        "    \"\"\"\n",
        "    Checks if a given text is likely spam based on several heuristics.\n",
        "\n",
        "    Args:\n",
        "      text: The text to be checked.\n",
        "\n",
        "    Returns:\n",
        "      True if the text is likely spam, False otherwise.\n",
        "    \"\"\"\n",
        "\n",
        "    # Convert to lowercase for case-insensitive matching\n",
        "    text = text.lower()\n",
        "\n",
        "    # Heuristics for spam detection\n",
        "    spam_keywords = [\"free\", \"money\", \"prize\", \"winner\", \"urgent\", \"limited time\", \"click here\", \"viagra\", \"casino\"]\n",
        "    suspicious_patterns = [r\"\\d{10,}\",  # Long sequences of digits (e.g., phone numbers)\n",
        "                            r\"[!@#$%^&*()_+=-`~\\[\\]\\\\{}|;':\\\",./<>?]{3,}\", # Excessive punctuation\n",
        "                           ]\n",
        "\n",
        "\n",
        "    # Keyword check\n",
        "    for keyword in spam_keywords:\n",
        "        if keyword in text:\n",
        "            return True\n",
        "\n",
        "    # Pattern checks\n",
        "    for pattern in suspicious_patterns:\n",
        "        if re.search(pattern, text):\n",
        "            return True\n",
        "\n",
        "    # Additional checks can be added here (e.g., URL count, excessive capitalization)\n",
        "\n",
        "    return False\n",
        "\n",
        "\n",
        "# Example usage\n",
        "texts = [\n",
        "    \"Congratulations! You've won a free prize! Click here to claim now.\",\n",
        "    \"Meeting at 3 pm tomorrow.\",\n",
        "    \"Your order has shipped.\",\n",
        "    \"Make money fast! Guaranteed returns!\",\n",
        "    \"Hi, this is John, calling about your recent inquiry.\",\n",
        "    \"Free Viagra samples!\",\n",
        "    \"12345678901234567890\",  # Long number\n",
        "    \"Hello!!! This is a very important message!!!\"\n",
        "]\n",
        "\n",
        "for text in texts:\n",
        "    if is_spam(text):\n",
        "        print(f\"'{text}' is likely spam.\")\n",
        "    else:\n",
        "        print(f\"'{text}' is not likely spam.\")\n"
      ],
      "metadata": {
        "colab": {
          "base_uri": "https://localhost:8080/"
        },
        "id": "3vK9ifDvRZTw",
        "outputId": "add8a959-7ae7-40f4-8a7d-884f288541db"
      },
      "execution_count": 34,
      "outputs": [
        {
          "output_type": "stream",
          "name": "stdout",
          "text": [
            "'Congratulations! You've won a free prize! Click here to claim now.' is likely spam.\n",
            "'Meeting at 3 pm tomorrow.' is not likely spam.\n",
            "'Your order has shipped.' is not likely spam.\n",
            "'Make money fast! Guaranteed returns!' is likely spam.\n",
            "'Hi, this is John, calling about your recent inquiry.' is not likely spam.\n",
            "'Free Viagra samples!' is likely spam.\n",
            "'12345678901234567890' is likely spam.\n",
            "'Hello!!! This is a very important message!!!' is likely spam.\n"
          ]
        }
      ]
    }
  ]
}