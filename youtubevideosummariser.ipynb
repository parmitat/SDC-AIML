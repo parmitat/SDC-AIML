{
  "nbformat": 4,
  "nbformat_minor": 0,
  "metadata": {
    "colab": {
      "provenance": [],
      "authorship_tag": "ABX9TyPsWds0tqtkugV7fctxvUt/",
      "include_colab_link": true
    },
    "kernelspec": {
      "name": "python3",
      "display_name": "Python 3"
    },
    "language_info": {
      "name": "python"
    }
  },
  "cells": [
    {
      "cell_type": "markdown",
      "metadata": {
        "id": "view-in-github",
        "colab_type": "text"
      },
      "source": [
        "<a href=\"https://colab.research.google.com/github/parmitat/SDC-AIML/blob/main/youtubevideosummariser.ipynb\" target=\"_parent\"><img src=\"https://colab.research.google.com/assets/colab-badge.svg\" alt=\"Open In Colab\"/></a>"
      ]
    },
    {
      "cell_type": "code",
      "execution_count": 1,
      "metadata": {
        "colab": {
          "base_uri": "https://localhost:8080/"
        },
        "id": "DT6kmrFSMezp",
        "outputId": "29fc23af-2a36-4b29-e482-0c1dc13268fe"
      },
      "outputs": [
        {
          "output_type": "stream",
          "name": "stdout",
          "text": [
            "Collecting youtube-transcript-api\n",
            "  Downloading youtube_transcript_api-1.0.3-py3-none-any.whl.metadata (23 kB)\n",
            "Requirement already satisfied: defusedxml<0.8.0,>=0.7.1 in /usr/local/lib/python3.11/dist-packages (from youtube-transcript-api) (0.7.1)\n",
            "Requirement already satisfied: requests in /usr/local/lib/python3.11/dist-packages (from youtube-transcript-api) (2.32.3)\n",
            "Requirement already satisfied: charset-normalizer<4,>=2 in /usr/local/lib/python3.11/dist-packages (from requests->youtube-transcript-api) (3.4.1)\n",
            "Requirement already satisfied: idna<4,>=2.5 in /usr/local/lib/python3.11/dist-packages (from requests->youtube-transcript-api) (3.10)\n",
            "Requirement already satisfied: urllib3<3,>=1.21.1 in /usr/local/lib/python3.11/dist-packages (from requests->youtube-transcript-api) (2.3.0)\n",
            "Requirement already satisfied: certifi>=2017.4.17 in /usr/local/lib/python3.11/dist-packages (from requests->youtube-transcript-api) (2025.1.31)\n",
            "Downloading youtube_transcript_api-1.0.3-py3-none-any.whl (2.2 MB)\n",
            "\u001b[2K   \u001b[90m━━━━━━━━━━━━━━━━━━━━━━━━━━━━━━━━━━━━━━━━\u001b[0m \u001b[32m2.2/2.2 MB\u001b[0m \u001b[31m19.1 MB/s\u001b[0m eta \u001b[36m0:00:00\u001b[0m\n",
            "\u001b[?25hInstalling collected packages: youtube-transcript-api\n",
            "Successfully installed youtube-transcript-api-1.0.3\n",
            "Summary of the video:\n",
            "[Music] we're no strangers to love you know the rules and so do I I full commitments while I'm thinking of you wouldn't get this from any other guy I just want to tell you how I'm feeling got to make you understand Never Going To Give You Up never going to let you down never going to run around and desert you never going to make you cry never going to say goodbye never going to tell a lie and hurt you we've known each other for so long your heart's been aching but your to sh to say it inside we both know what's been going on we know the game and we're going to playing and if you ask me how I'm feeling don't tell me you're too my you see Never Going To Give You Up never going to let you down never to run around and desert you never going to make you cry never going to say goodbye never going to tell a lie and hurt you never going to give you up never going to let you down never going to run around and desert you never going to make you cry never going to sing goodbye going to tell a lie and hurt you give you give you going to give going to give you going to give going to give you we've known each other for so long your heart's been aching but you're too sh to say inside we both know what's been going on we the game and we're going to play it I just want to tell you how I'm feeling got to make you understand Never Going To Give You Up never going to let you down never going to run around and desert you never going to make you cry never going to say goodbye never going to tell you my and Hurt You Never Going To Give You Up never going to let you down never going to run around and desert you never going to make you C never going to say goodbye never going to tell and Hur You Never Going To Give You Up never going to let you down never going to run around and desert you never going to make you going to [Music] goodbye and\n"
          ]
        }
      ],
      "source": [
        "# Install necessary packages\n",
        "!pip install youtube-transcript-api\n",
        "\n",
        "# Import required libraries\n",
        "from youtube_transcript_api import YouTubeTranscriptApi\n",
        "from collections import Counter\n",
        "\n",
        "# Function to retrieve YouTube transcript\n",
        "def get_transcript(video_id):\n",
        "    try:\n",
        "        transcript = YouTubeTranscriptApi.get_transcript(video_id)\n",
        "        full_transcript = \" \".join([item['text'] for item in transcript])\n",
        "        return full_transcript\n",
        "    except Exception as e:\n",
        "        return str(e)\n",
        "\n",
        "# Simple summarizer function\n",
        "def basic_summarizer(text, num_sentences=5):\n",
        "    # Split the transcript into words and count their frequencies\n",
        "    word_freq = Counter(text.split())\n",
        "    # Sort words by frequency\n",
        "    most_common_words = [word for word, _ in word_freq.most_common(50)]\n",
        "    # Filter sentences containing the most frequent words\n",
        "    sentences = text.split(\". \")\n",
        "    key_sentences = sorted(sentences, key=lambda x: sum(word in x for word in most_common_words), reverse=True)\n",
        "    # Return the top N key sentences\n",
        "    return \". \".join(key_sentences[:num_sentences])\n",
        "\n",
        "# Example: Retrieve and summarize transcript\n",
        "video_id = \"dQw4w9WgXcQ\"  # Replace this with your YouTube video ID\n",
        "transcript = get_transcript(video_id)\n",
        "\n",
        "if transcript:\n",
        "    summary = basic_summarizer(transcript)\n",
        "    print(\"Summary of the video:\")\n",
        "    print(summary)\n",
        "else:\n",
        "    print(\"Transcript could not be retrieved. Make sure the video has captions.\")\n"
      ]
    }
  ]
}