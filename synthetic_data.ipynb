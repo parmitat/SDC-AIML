{
  "nbformat": 4,
  "nbformat_minor": 0,
  "metadata": {
    "colab": {
      "provenance": [],
      "authorship_tag": "ABX9TyO2ZljQC31DC2oXOIM02+PB",
      "include_colab_link": true
    },
    "kernelspec": {
      "name": "python3",
      "display_name": "Python 3"
    },
    "language_info": {
      "name": "python"
    }
  },
  "cells": [
    {
      "cell_type": "markdown",
      "metadata": {
        "id": "view-in-github",
        "colab_type": "text"
      },
      "source": [
        "<a href=\"https://colab.research.google.com/github/HarsikaVetrivel/PYTHONAIML/blob/main/synthetic_data.ipynb\" target=\"_parent\"><img src=\"https://colab.research.google.com/assets/colab-badge.svg\" alt=\"Open In Colab\"/></a>"
      ]
    },
    {
      "cell_type": "code",
      "source": [
        "# prompt: sample code in python using synthetic data\n",
        "\n",
        "import pandas as pd\n",
        "import numpy as np\n",
        "\n",
        "# Generate synthetic data\n",
        "np.random.seed(42)  # for reproducibility\n",
        "num_samples = 100\n",
        "\n",
        "data = {\n",
        "    'feature1': np.random.rand(num_samples),\n",
        "    'feature2': np.random.randint(0, 10, num_samples),\n",
        "    'feature3': np.random.choice(['A', 'B', 'C'], num_samples),\n",
        "    'target': np.random.randint(0, 2, num_samples)\n",
        "}\n",
        "\n",
        "# Create a Pandas DataFrame\n",
        "df = pd.DataFrame(data)\n",
        "\n",
        "# Display the first few rows of the DataFrame\n",
        "print(df.head())\n",
        "\n",
        "# Perform some basic analysis (example)\n",
        "print(\"\\nSummary statistics:\")\n",
        "print(df.describe())\n",
        "\n",
        "print(\"\\nValue counts of feature3:\")\n",
        "print(df['feature3'].value_counts())\n"
      ],
      "metadata": {
        "colab": {
          "base_uri": "https://localhost:8080/"
        },
        "id": "xrjol0VVjhC3",
        "outputId": "db3989b6-11a4-4e12-d2a5-93a55433d6c4"
      },
      "execution_count": 13,
      "outputs": [
        {
          "output_type": "stream",
          "name": "stdout",
          "text": [
            "   feature1  feature2 feature3  target\n",
            "0  0.374540         6        B       0\n",
            "1  0.950714         0        C       1\n",
            "2  0.731994         3        C       1\n",
            "3  0.598658         3        B       0\n",
            "4  0.156019         4        B       1\n",
            "\n",
            "Summary statistics:\n",
            "         feature1    feature2      target\n",
            "count  100.000000  100.000000  100.000000\n",
            "mean     0.470181    4.180000    0.580000\n",
            "std      0.297489    2.886331    0.496045\n",
            "min      0.005522    0.000000    0.000000\n",
            "25%      0.193201    2.000000    0.000000\n",
            "50%      0.464142    4.000000    1.000000\n",
            "75%      0.730203    6.250000    1.000000\n",
            "max      0.986887    9.000000    1.000000\n",
            "\n",
            "Value counts of feature3:\n",
            "feature3\n",
            "A    39\n",
            "B    31\n",
            "C    30\n",
            "Name: count, dtype: int64\n"
          ]
        }
      ]
    }
  ]
}