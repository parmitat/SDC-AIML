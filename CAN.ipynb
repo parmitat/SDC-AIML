{
  "nbformat": 4,
  "nbformat_minor": 0,
  "metadata": {
    "colab": {
      "provenance": [],
      "authorship_tag": "ABX9TyOy6YuiwGBjO7cuFqj1xtsu",
      "include_colab_link": true
    },
    "kernelspec": {
      "name": "python3",
      "display_name": "Python 3"
    },
    "language_info": {
      "name": "python"
    }
  },
  "cells": [
    {
      "cell_type": "markdown",
      "metadata": {
        "id": "view-in-github",
        "colab_type": "text"
      },
      "source": [
        "<a href=\"https://colab.research.google.com/github/HarsikaVetrivel/PYTHONAIML/blob/main/CAN.ipynb\" target=\"_parent\"><img src=\"https://colab.research.google.com/assets/colab-badge.svg\" alt=\"Open In Colab\"/></a>"
      ]
    },
    {
      "cell_type": "code",
      "source": [
        "# prompt: sample code using CAN\n",
        "\n",
        "# This code simulates CAN communication.  It does NOT require any hardware.\n",
        "\n",
        "import random\n",
        "\n",
        "class CANMessage:\n",
        "    def __init__(self, arbitration_id, data):\n",
        "        self.arbitration_id = arbitration_id\n",
        "        self.data = data\n",
        "\n",
        "    def __str__(self):\n",
        "        return f\"ID: {self.arbitration_id}, Data: {self.data}\"\n",
        "\n",
        "class CANBus:\n",
        "    def __init__(self):\n",
        "        self.messages = []\n",
        "\n",
        "    def send(self, message):\n",
        "        print(f\"Sending: {message}\")\n",
        "        self.messages.append(message)\n",
        "\n",
        "    def receive(self):\n",
        "        if self.messages:\n",
        "            message = self.messages.pop(0)  # Simulate receiving a message\n",
        "            print(f\"Received: {message}\")\n",
        "            return message\n",
        "        else:\n",
        "            print(\"No messages available\")\n",
        "            return None\n",
        "\n",
        "\n",
        "# Example usage\n",
        "\n",
        "# Initialize CAN bus\n",
        "can_bus = CANBus()\n",
        "\n",
        "# Create some example messages\n",
        "msg1 = CANMessage(0x123, [0x01, 0x02, 0x03])\n",
        "msg2 = CANMessage(0x456, [0x04, 0x05])\n",
        "\n",
        "\n",
        "# Simulate sending and receiving messages\n",
        "can_bus.send(msg1)\n",
        "can_bus.send(msg2)\n",
        "\n",
        "\n",
        "received_msg = can_bus.receive()\n",
        "if received_msg:\n",
        "  print(f\"Processed data: {received_msg.data}\")\n",
        "\n",
        "received_msg = can_bus.receive()\n",
        "if received_msg:\n",
        "  print(f\"Processed data: {received_msg.data}\")\n",
        "\n",
        "# Simulate a scenario where there are no messages\n",
        "\n",
        "received_msg = can_bus.receive()\n"
      ],
      "metadata": {
        "colab": {
          "base_uri": "https://localhost:8080/"
        },
        "id": "qthCfOSVf4f0",
        "outputId": "9dbf2f87-70eb-4f1c-a4f5-03b51c7360e7"
      },
      "execution_count": 10,
      "outputs": [
        {
          "output_type": "stream",
          "name": "stdout",
          "text": [
            "Sending: ID: 291, Data: [1, 2, 3]\n",
            "Sending: ID: 1110, Data: [4, 5]\n",
            "Received: ID: 291, Data: [1, 2, 3]\n",
            "Processed data: [1, 2, 3]\n",
            "Received: ID: 1110, Data: [4, 5]\n",
            "Processed data: [4, 5]\n",
            "No messages available\n"
          ]
        }
      ]
    }
  ]
}